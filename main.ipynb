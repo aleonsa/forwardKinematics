{
 "cells": [
  {
   "cell_type": "code",
   "execution_count": 14,
   "metadata": {},
   "outputs": [],
   "source": [
    "import numpy as np\n",
    "import matplotlib.pyplot as plt\n",
    "from mpl_toolkits.mplot3d import Axes3D"
   ]
  },
  {
   "cell_type": "code",
   "execution_count": 4,
   "metadata": {},
   "outputs": [],
   "source": [
    "def calculate_transform_matrix(theta1, theta2, theta3, theta4):\n",
    "    L1 = 0.14\n",
    "    L2 = 0.35\n",
    "    L3 = 0.05\n",
    "    L4 = 0.025\n",
    "    L5 = 0.15\n",
    "    H = np.sqrt(L2**2 + L3**2)\n",
    "\n",
    "    # Define the Denavit-Hartenberg parameters for the robot manipulator\n",
    "    # Modify these values according to your robot's kinematics\n",
    "    d = [L1, 0, 0, L4+L5]  # Link offsets\n",
    "    a = [0, H, 0, 0]  # Link lengths\n",
    "    alpha = [np.pi/2, 0, np.pi/2, 0]  # Link twists\n",
    "\n",
    "    beta = np.arctan(L3/L2)\n",
    "\n",
    "    theta2 = theta2 + np.pi/2 - beta\n",
    "    theta3 = theta3 + beta\n",
    "\n",
    "    # Create the transformation matrices for each joint\n",
    "    T01 = create_transform_matrix(alpha[0], a[0], d[0], theta1)\n",
    "    T12 = create_transform_matrix(alpha[1], a[1], d[1], theta2)\n",
    "    T23 = create_transform_matrix(alpha[2], a[2], d[2], theta3)\n",
    "    T34 = create_transform_matrix(alpha[3], a[3], d[3], theta4)\n",
    "\n",
    "    # Calculate the Total Homogeneous Transformation Matrix\n",
    "    T04 = np.dot(np.dot(np.dot(T01, T12), T23), T34)\n",
    "\n",
    "    return T04\n",
    "\n",
    "def create_transform_matrix(alpha, a, d, theta):\n",
    "    cos_theta = np.cos(theta)\n",
    "    sin_theta = np.sin(theta)\n",
    "    cos_alpha = np.cos(alpha)\n",
    "    sin_alpha = np.sin(alpha)\n",
    "\n",
    "    # Create the transformation matrix\n",
    "    T = np.array([\n",
    "        [cos_theta, -sin_theta*cos_alpha, sin_theta*sin_alpha, a*cos_theta],\n",
    "        [sin_theta, cos_theta*cos_alpha, -cos_theta*sin_alpha, a*sin_theta],\n",
    "        [0, sin_alpha, cos_alpha, d],\n",
    "        [0, 0, 0, 1]\n",
    "    ])\n",
    "\n",
    "    return T"
   ]
  },
  {
   "cell_type": "code",
   "execution_count": null,
   "metadata": {},
   "outputs": [
    {
     "data": {
      "text/plain": [
       "0.35355339059327373"
      ]
     },
     "metadata": {},
     "output_type": "display_data"
    }
   ],
   "source": [
    "np.sqrt(0.05**2 + 0.35**2)"
   ]
  },
  {
   "cell_type": "code",
   "execution_count": 26,
   "metadata": {},
   "outputs": [
    {
     "data": {
      "text/plain": [
       "array([[-0.37850261, -0.68677034, -0.62054998,  0.2147219 ],\n",
       "       [ 0.88871813, -0.45701578, -0.03628595,  0.01255562],\n",
       "       [-0.25868102, -0.56522834,  0.78332691,  0.41888471],\n",
       "       [ 0.        ,  0.        ,  0.        ,  1.        ]])"
      ]
     },
     "execution_count": 26,
     "metadata": {},
     "output_type": "execute_result"
    }
   ],
   "source": [
    "calculate_transform_matrix(3.2, 1.3, -0.4, 2)"
   ]
  },
  {
   "cell_type": "code",
   "execution_count": 12,
   "metadata": {},
   "outputs": [],
   "source": [
    "L1 = 0.14\n",
    "L2 = 0.35\n",
    "L3 = 0.05\n",
    "L4 = 0.025\n",
    "L5 = 0.15\n",
    "link_lengths = [L1, np.sqrt(L2**2 + L3**2), L4, L5]  # Example link lengths\n",
    "initial_position = np.array([0, 0, 0, 1])  # Initial position [x, y, z, 1]"
   ]
  },
  {
   "cell_type": "code",
   "execution_count": 41,
   "metadata": {},
   "outputs": [
    {
     "data": {
      "application/vnd.jupyter.widget-view+json": {
       "model_id": "236581aadc464754b52cbb3f257d2cf9",
       "version_major": 2,
       "version_minor": 0
      },
      "text/plain": [
       "FloatSlider(value=0.7853981633974483, description='Angle', max=6.283185307179586, step=0.01)"
      ]
     },
     "metadata": {},
     "output_type": "display_data"
    },
    {
     "data": {
      "application/vnd.jupyter.widget-view+json": {
       "model_id": "262dbdf3200c434c8ffb0eadaa015612",
       "version_major": 2,
       "version_minor": 0
      },
      "text/plain": [
       "Output()"
      ]
     },
     "metadata": {},
     "output_type": "display_data"
    }
   ],
   "source": [
    "# import numpy as np\n",
    "# import matplotlib.pyplot as plt\n",
    "# from mpl_toolkits.mplot3d import Axes3D\n",
    "import ipywidgets as widgets\n",
    "from IPython.display import display\n",
    "\n",
    "def plot_robot(theta1):\n",
    "    L2 = 0.35  # Length of the second link in meters\n",
    "    L3 = 0.05  # Length of the third link in meters\n",
    "\n",
    "    # Calculate the start and end points of the first link vector\n",
    "    start_point_1 = np.array([0, 0, 0])\n",
    "    end_point_1 = np.array([0, 0, 0.14])\n",
    "    rotation_matrix_1 = np.array([[np.cos(theta1), -np.sin(theta1), 0],\n",
    "                                [np.sin(theta1), np.cos(theta1), 0],\n",
    "                                [0, 0, 1]])\n",
    "    rotated_end_point_1 = np.dot(rotation_matrix_1, end_point_1)\n",
    "\n",
    "    # Calculate the start and end points of the second link vector\n",
    "    start_point_2 = end_point_1\n",
    "    end_point_2 = start_point_2 + np.array([0, 0, np.sqrt(L3**2 + L2**2)])\n",
    "    rotation_matrix_2 = np.array([[1, 0, 0],\n",
    "                                [0, np.cos(-np.arctan(L3/L2)), -np.sin(-np.arctan(L3/L2))],\n",
    "                                [0, np.sin(-np.arctan(L3/L2)), np.cos(-np.arctan(L3/L2))]])\n",
    "    rotated_end_point_2 = np.dot(rotation_matrix_2, end_point_2 - start_point_2) + start_point_2\n",
    "\n",
    "    # Calculate the start and end points of the third link vector\n",
    "    start_point_3 = end_point_2\n",
    "    end_point_3 = start_point_3 + np.array([0.025, 0, 0])\n",
    "    rotated_end_point_3 = end_point_3\n",
    "\n",
    "    # Calculate the start and end points of the fourth link vector\n",
    "    start_point_4 = end_point_3\n",
    "    end_point_4 = start_point_4 + np.array([0.15, 0, 0])\n",
    "    rotated_end_point_4 = end_point_4\n",
    "\n",
    "    fig = plt.figure()\n",
    "    ax = fig.add_subplot(111, projection='3d')\n",
    "\n",
    "    # Plot the first, second, third, and fourth links\n",
    "    ax.plot([start_point_1[0], rotated_end_point_1[0]], [start_point_1[1], rotated_end_point_1[1]], [start_point_1[2], rotated_end_point_1[2]], 'r-')\n",
    "    ax.plot([start_point_2[0], rotated_end_point_2[0]], [start_point_2[1], rotated_end_point_2[1]], [start_point_2[2], rotated_end_point_2[2]], 'g-')\n",
    "    ax.plot([start_point_3[0], rotated_end_point_3[0]], [start_point_3[1], rotated_end_point_3[1]], [start_point_3[2], rotated_end_point_3[2]], 'b-')\n",
    "    ax.plot([start_point_4[0], rotated_end_point_4[0]], [start_point_4[1], rotated_end_point_4[1]], [start_point_4[2], rotated_end_point_4[2]], 'm-')\n",
    "    ax.scatter(start_point_1[0], start_point_1[1], start_point_1[2], color='blue')  # Start point of the first link\n",
    "    ax.scatter(rotated_end_point_1[0], rotated_end_point_1[1], rotated_end_point_1[2], color='blue')  # End point of the first link\n",
    "    ax.scatter(start_point_2[0], start_point_2[1], start_point_2[2], color='blue')  # Start point of the second link\n",
    "    ax.scatter(rotated_end_point_2[0], rotated_end_point_2[1], rotated_end_point_2[2], color='blue')  # End point of the second link\n",
    "    ax.scatter(start_point_3[0], start_point_3[1], start_point_3[2], color='blue')  # Start point of the third link\n",
    "    ax.scatter(rotated_end_point_3[0], rotated_end_point_3[1], rotated_end_point_3[2], color='blue')  # End point of the third link\n",
    "    ax.scatter(start_point_4[0], start_point_4[1], start_point_4[2], color='blue')  # Start point of the fourth link\n",
    "    ax.scatter(rotated_end_point_4[0], rotated_end_point_4[1], rotated_end_point_4[2], color='blue')  # End point of the fourth link\n",
    "\n",
    "    # Set plot limits and labels\n",
    "    ax.set_xlim([-1, 1])\n",
    "    ax.set_ylim([-1, 1])\n",
    "    ax.set_zlim([0, 0.5])\n",
    "    ax.set_xlabel('X')\n",
    "    ax.set_ylabel('Y')\n",
    "    ax.set_zlabel('Z')\n",
    "    ax.set_title('First, Second, Third, and Fourth Links')\n",
    "\n",
    "    # Show the plot\n",
    "    plt.show()\n",
    "\n",
    "# Create a slider widget for the angle\n",
    "angle_slider = widgets.FloatSlider(min=0, max=2*np.pi, step=0.01, value=np.pi/4, description='Angle')\n",
    "\n",
    "# Create an output widget for displaying the plot\n",
    "output = widgets.Output()\n",
    "\n",
    "# Define a function to update the plot when the slider value changes\n",
    "def update_plot(change):\n",
    "    with output:\n",
    "        plt.clf()  # Clear the previous plot\n",
    "        plot_robot(change.new)\n",
    "\n",
    "# Attach the update_plot function to the slider's value change event\n",
    "angle_slider.observe(update_plot, 'value')\n",
    "\n",
    "# Display the slider and the output widget\n",
    "display(angle_slider, output)"
   ]
  },
  {
   "cell_type": "code",
   "execution_count": null,
   "metadata": {},
   "outputs": [],
   "source": []
  }
 ],
 "metadata": {
  "kernelspec": {
   "display_name": "venv",
   "language": "python",
   "name": "python3"
  },
  "language_info": {
   "codemirror_mode": {
    "name": "ipython",
    "version": 3
   },
   "file_extension": ".py",
   "mimetype": "text/x-python",
   "name": "python",
   "nbconvert_exporter": "python",
   "pygments_lexer": "ipython3",
   "version": "3.10.12"
  },
  "orig_nbformat": 4
 },
 "nbformat": 4,
 "nbformat_minor": 2
}
